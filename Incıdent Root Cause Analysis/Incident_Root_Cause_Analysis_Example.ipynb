{
 "cells": [
  {
   "cell_type": "markdown",
   "id": "3dea2bfc-0ff0-4193-a2da-fc936c4d6c78",
   "metadata": {},
   "source": [
    "# Preprocessing Incıdent Data"
   ]
  },
  {
   "cell_type": "code",
   "execution_count": 1,
   "id": "9dfb3b79-00e7-49f3-8994-cec225fa7585",
   "metadata": {},
   "outputs": [
    {
     "name": "stdout",
     "output_type": "stream",
     "text": [
      "   ID  CPU_LOAD  MEMORY_LEAK_LOAD  DELAY  ERROR_1000  ERROR_1001  ERROR_1002  \\\n",
      "0   1         0                 0      0           0           1           0   \n",
      "1   2         0                 0      0           0           0           0   \n",
      "2   3         0                 1      1           0           0           1   \n",
      "3   4         0                 1      0           1           1           0   \n",
      "4   5         1                 1      0           1           0           1   \n",
      "\n",
      "   ERROR_1003     ROOT_CAUSE  \n",
      "0           1    MEMORY_LEAK  \n",
      "1           1    MEMORY_LEAK  \n",
      "2           1    MEMORY_LEAK  \n",
      "3           1    MEMORY_LEAK  \n",
      "4           0  NETWORK_DELAY  \n"
     ]
    }
   ],
   "source": [
    "import pandas as pd\n",
    "import os\n",
    "import tensorflow as tf\n",
    "import numpy as np\n",
    "from sklearn.model_selection import train_test_split\n",
    "from sklearn.preprocessing import StandardScaler\n",
    "\n",
    "# Load the data and review content\n",
    "symptom_data = pd.read_csv(\"root_cause_analysis.csv\")\n",
    "\n",
    "\n",
    "#print(\"\\nLoaded Data : n\\------------------------\")\n",
    "print(symptom_data.head())"
   ]
  },
  {
   "cell_type": "code",
   "execution_count": 2,
   "id": "4aa37cda-4b3e-4138-9e88-be3dcd7204bf",
   "metadata": {},
   "outputs": [],
   "source": [
    "#Use a Label encoder to convert String to numeric  values\n",
    "# for the Target variable\n",
    "\n",
    "from sklearn import preprocessing    # used to make LabelEncoder\n",
    "label_encode = preprocessing.LabelEncoder()\n",
    "\n",
    "symptom_data['ROOT_CAUSE'] = label_encode.fit_transform(symptom_data[\"ROOT_CAUSE\"])\n",
    " # yukarıdkai kod iris_data veri setindeki \"Species\" sütununu \"LabelEncoder\" kullanarak sayılsal değerlere dönüştürür.\n",
    " # örneğin Species sütununda versicolor, virginica ve setosa gibi veriler var \n",
    " # bu verilere setosa için 0, versicolor için 1 ve virginica için 2 değerlerini atayabilir."
   ]
  },
  {
   "cell_type": "code",
   "execution_count": 3,
   "id": "a40e1d6e-5528-4e05-a8e0-9258d2f58fe0",
   "metadata": {},
   "outputs": [
    {
     "data": {
      "text/html": [
       "<div>\n",
       "<style scoped>\n",
       "    .dataframe tbody tr th:only-of-type {\n",
       "        vertical-align: middle;\n",
       "    }\n",
       "\n",
       "    .dataframe tbody tr th {\n",
       "        vertical-align: top;\n",
       "    }\n",
       "\n",
       "    .dataframe thead th {\n",
       "        text-align: right;\n",
       "    }\n",
       "</style>\n",
       "<table border=\"1\" class=\"dataframe\">\n",
       "  <thead>\n",
       "    <tr style=\"text-align: right;\">\n",
       "      <th></th>\n",
       "      <th>ID</th>\n",
       "      <th>CPU_LOAD</th>\n",
       "      <th>MEMORY_LEAK_LOAD</th>\n",
       "      <th>DELAY</th>\n",
       "      <th>ERROR_1000</th>\n",
       "      <th>ERROR_1001</th>\n",
       "      <th>ERROR_1002</th>\n",
       "      <th>ERROR_1003</th>\n",
       "      <th>ROOT_CAUSE</th>\n",
       "    </tr>\n",
       "  </thead>\n",
       "  <tbody>\n",
       "    <tr>\n",
       "      <th>0</th>\n",
       "      <td>1</td>\n",
       "      <td>0</td>\n",
       "      <td>0</td>\n",
       "      <td>0</td>\n",
       "      <td>0</td>\n",
       "      <td>1</td>\n",
       "      <td>0</td>\n",
       "      <td>1</td>\n",
       "      <td>1</td>\n",
       "    </tr>\n",
       "    <tr>\n",
       "      <th>1</th>\n",
       "      <td>2</td>\n",
       "      <td>0</td>\n",
       "      <td>0</td>\n",
       "      <td>0</td>\n",
       "      <td>0</td>\n",
       "      <td>0</td>\n",
       "      <td>0</td>\n",
       "      <td>1</td>\n",
       "      <td>1</td>\n",
       "    </tr>\n",
       "    <tr>\n",
       "      <th>2</th>\n",
       "      <td>3</td>\n",
       "      <td>0</td>\n",
       "      <td>1</td>\n",
       "      <td>1</td>\n",
       "      <td>0</td>\n",
       "      <td>0</td>\n",
       "      <td>1</td>\n",
       "      <td>1</td>\n",
       "      <td>1</td>\n",
       "    </tr>\n",
       "    <tr>\n",
       "      <th>3</th>\n",
       "      <td>4</td>\n",
       "      <td>0</td>\n",
       "      <td>1</td>\n",
       "      <td>0</td>\n",
       "      <td>1</td>\n",
       "      <td>1</td>\n",
       "      <td>0</td>\n",
       "      <td>1</td>\n",
       "      <td>1</td>\n",
       "    </tr>\n",
       "    <tr>\n",
       "      <th>4</th>\n",
       "      <td>5</td>\n",
       "      <td>1</td>\n",
       "      <td>1</td>\n",
       "      <td>0</td>\n",
       "      <td>1</td>\n",
       "      <td>0</td>\n",
       "      <td>1</td>\n",
       "      <td>0</td>\n",
       "      <td>2</td>\n",
       "    </tr>\n",
       "  </tbody>\n",
       "</table>\n",
       "</div>"
      ],
      "text/plain": [
       "   ID  CPU_LOAD  MEMORY_LEAK_LOAD  DELAY  ERROR_1000  ERROR_1001  ERROR_1002  \\\n",
       "0   1         0                 0      0           0           1           0   \n",
       "1   2         0                 0      0           0           0           0   \n",
       "2   3         0                 1      1           0           0           1   \n",
       "3   4         0                 1      0           1           1           0   \n",
       "4   5         1                 1      0           1           0           1   \n",
       "\n",
       "   ERROR_1003  ROOT_CAUSE  \n",
       "0           1           1  \n",
       "1           1           1  \n",
       "2           1           1  \n",
       "3           1           1  \n",
       "4           0           2  "
      ]
     },
     "execution_count": 3,
     "metadata": {},
     "output_type": "execute_result"
    }
   ],
   "source": [
    "symptom_data.head()"
   ]
  },
  {
   "cell_type": "code",
   "execution_count": 4,
   "id": "c6ae42b2-34cc-480b-a161-a1f9bcf1d7a6",
   "metadata": {},
   "outputs": [
    {
     "data": {
      "text/html": [
       "<div>\n",
       "<style scoped>\n",
       "    .dataframe tbody tr th:only-of-type {\n",
       "        vertical-align: middle;\n",
       "    }\n",
       "\n",
       "    .dataframe tbody tr th {\n",
       "        vertical-align: top;\n",
       "    }\n",
       "\n",
       "    .dataframe thead th {\n",
       "        text-align: right;\n",
       "    }\n",
       "</style>\n",
       "<table border=\"1\" class=\"dataframe\">\n",
       "  <thead>\n",
       "    <tr style=\"text-align: right;\">\n",
       "      <th></th>\n",
       "      <th>ID</th>\n",
       "      <th>CPU_LOAD</th>\n",
       "      <th>MEMORY_LEAK_LOAD</th>\n",
       "      <th>DELAY</th>\n",
       "      <th>ERROR_1000</th>\n",
       "      <th>ERROR_1001</th>\n",
       "      <th>ERROR_1002</th>\n",
       "      <th>ERROR_1003</th>\n",
       "      <th>ROOT_CAUSE</th>\n",
       "    </tr>\n",
       "  </thead>\n",
       "  <tbody>\n",
       "    <tr>\n",
       "      <th>995</th>\n",
       "      <td>996</td>\n",
       "      <td>0</td>\n",
       "      <td>0</td>\n",
       "      <td>0</td>\n",
       "      <td>0</td>\n",
       "      <td>0</td>\n",
       "      <td>0</td>\n",
       "      <td>1</td>\n",
       "      <td>0</td>\n",
       "    </tr>\n",
       "    <tr>\n",
       "      <th>996</th>\n",
       "      <td>997</td>\n",
       "      <td>0</td>\n",
       "      <td>0</td>\n",
       "      <td>0</td>\n",
       "      <td>1</td>\n",
       "      <td>0</td>\n",
       "      <td>0</td>\n",
       "      <td>0</td>\n",
       "      <td>2</td>\n",
       "    </tr>\n",
       "    <tr>\n",
       "      <th>997</th>\n",
       "      <td>998</td>\n",
       "      <td>1</td>\n",
       "      <td>1</td>\n",
       "      <td>1</td>\n",
       "      <td>0</td>\n",
       "      <td>0</td>\n",
       "      <td>0</td>\n",
       "      <td>0</td>\n",
       "      <td>1</td>\n",
       "    </tr>\n",
       "    <tr>\n",
       "      <th>998</th>\n",
       "      <td>999</td>\n",
       "      <td>0</td>\n",
       "      <td>1</td>\n",
       "      <td>1</td>\n",
       "      <td>1</td>\n",
       "      <td>1</td>\n",
       "      <td>0</td>\n",
       "      <td>0</td>\n",
       "      <td>2</td>\n",
       "    </tr>\n",
       "    <tr>\n",
       "      <th>999</th>\n",
       "      <td>1000</td>\n",
       "      <td>1</td>\n",
       "      <td>0</td>\n",
       "      <td>0</td>\n",
       "      <td>0</td>\n",
       "      <td>1</td>\n",
       "      <td>1</td>\n",
       "      <td>0</td>\n",
       "      <td>0</td>\n",
       "    </tr>\n",
       "  </tbody>\n",
       "</table>\n",
       "</div>"
      ],
      "text/plain": [
       "       ID  CPU_LOAD  MEMORY_LEAK_LOAD  DELAY  ERROR_1000  ERROR_1001  \\\n",
       "995   996         0                 0      0           0           0   \n",
       "996   997         0                 0      0           1           0   \n",
       "997   998         1                 1      1           0           0   \n",
       "998   999         0                 1      1           1           1   \n",
       "999  1000         1                 0      0           0           1   \n",
       "\n",
       "     ERROR_1002  ERROR_1003  ROOT_CAUSE  \n",
       "995           0           1           0  \n",
       "996           0           0           2  \n",
       "997           0           0           1  \n",
       "998           0           0           2  \n",
       "999           1           0           0  "
      ]
     },
     "execution_count": 4,
     "metadata": {},
     "output_type": "execute_result"
    }
   ],
   "source": [
    "symptom_data.tail()"
   ]
  },
  {
   "cell_type": "code",
   "execution_count": 5,
   "id": "9fd49922-4c1f-4146-8c1a-9a32eda46ec4",
   "metadata": {},
   "outputs": [],
   "source": [
    "# Convert input to numpy array\n",
    "np_symptom=symptom_data.to_numpy()  # pandas olan \"symptom_data\" setini numpy dizisine çevirir ve \"np_iris\" içine atar"
   ]
  },
  {
   "cell_type": "code",
   "execution_count": 6,
   "id": "0a44c3bf-464a-46e4-8075-f6fd17b1af25",
   "metadata": {},
   "outputs": [
    {
     "data": {
      "text/plain": [
       "array([[   1,    0,    0, ...,    0,    1,    1],\n",
       "       [   2,    0,    0, ...,    0,    1,    1],\n",
       "       [   3,    0,    1, ...,    1,    1,    1],\n",
       "       ...,\n",
       "       [ 998,    1,    1, ...,    0,    0,    1],\n",
       "       [ 999,    0,    1, ...,    0,    0,    2],\n",
       "       [1000,    1,    0, ...,    1,    0,    0]], dtype=int64)"
      ]
     },
     "execution_count": 6,
     "metadata": {},
     "output_type": "execute_result"
    }
   ],
   "source": [
    "np_symptom"
   ]
  },
  {
   "cell_type": "code",
   "execution_count": 7,
   "id": "735f2d8a-a5e4-4921-a206-fa83348354cc",
   "metadata": {},
   "outputs": [],
   "source": [
    "# Seperate input to numpy array\n",
    "x_data = np_symptom[:,1:8] # x_data, np_iris dizisinin tüm satırlarını (:) ve ilk sekiz sütununu (0:8) seçer.\n",
    "y_data = np_symptom[:,8]   # y_data, np_iris dizisinin tüm satırlarını (:) ve sekizinci sütununu (8) seçer."
   ]
  },
  {
   "cell_type": "code",
   "execution_count": 8,
   "id": "ab97221a-783a-445c-81cd-85d59653afe7",
   "metadata": {},
   "outputs": [],
   "source": [
    "#Create a scaler model that is fit on the input data.\n",
    "scaler = StandardScaler().fit(x_data)\n",
    "\n",
    "# Scale the numeric feature variables\n",
    "x_data = scaler.transform(x_data)"
   ]
  },
  {
   "cell_type": "code",
   "execution_count": 9,
   "id": "4d982256-d88d-4643-870f-ba9d42319994",
   "metadata": {},
   "outputs": [
    {
     "name": "stdout",
     "output_type": "stream",
     "text": [
      "Benzersiz sınıflar: [0 1 2]\n",
      "Sınıf sayısı: 3\n"
     ]
    }
   ],
   "source": [
    "unique_classes = np.unique(y_data)\n",
    "num_classes = len(unique_classes)\n",
    "\n",
    "print(f\"Benzersiz sınıflar: {unique_classes}\")\n",
    "print(f\"Sınıf sayısı: {num_classes}\")"
   ]
  },
  {
   "cell_type": "code",
   "execution_count": 10,
   "id": "54890006-2451-4fb8-b6fc-a82fbdf23a76",
   "metadata": {},
   "outputs": [],
   "source": [
    "#Convert target variable as a one-hot-encoding array\n",
    "y_data = tf.keras.utils.to_categorical(y_data,3)\n",
    "\n",
    "#yukarıda one-hot-encoding yapmamızın sebebi \"y_data\" da 0 ,1 ve 2 gibi veriler var\n",
    "# bu veriler LabelEncoder ile 0,1,2 ye çevrilmişti şimdi one-hot encoding ile matrisledik"
   ]
  },
  {
   "cell_type": "code",
   "execution_count": 11,
   "id": "327053dd-c40d-4331-b94f-90062c0de51c",
   "metadata": {},
   "outputs": [
    {
     "name": "stdout",
     "output_type": "stream",
     "text": [
      "(900, 7) (900, 3) (100, 7) (100, 3)\n"
     ]
    }
   ],
   "source": [
    "# Split training and test data\n",
    "x_train, x_test, y_train, y_test = train_test_split ( x_data, y_data, test_size=0.10)\n",
    "print(x_train.shape, y_train.shape, x_test.shape, y_test.shape)"
   ]
  },
  {
   "cell_type": "markdown",
   "id": "2e2b9e50-0053-400b-9c31-cec5bf3ca8d5",
   "metadata": {},
   "source": [
    "# Creating a Model"
   ]
  },
  {
   "cell_type": "code",
   "execution_count": 12,
   "id": "fbffdeb4-8f5a-4096-a1f9-cd8e09142219",
   "metadata": {},
   "outputs": [],
   "source": [
    "from tensorflow import keras"
   ]
  },
  {
   "cell_type": "code",
   "execution_count": 13,
   "id": "340aa7ae-26f1-4c47-9f7e-2b19da062258",
   "metadata": {},
   "outputs": [],
   "source": [
    "# Number of classes in target variable\n",
    "# there are 3 classes\n",
    "NB_CLASSES = 3\n",
    "N_HIDDEN=32"
   ]
  },
  {
   "cell_type": "code",
   "execution_count": 14,
   "id": "37a18fe3-8ac1-4fef-bace-47a4d2ace895",
   "metadata": {},
   "outputs": [],
   "source": [
    "# Create a sequencial model in Keras\n",
    "model = tf.keras.models.Sequential()"
   ]
  },
  {
   "cell_type": "code",
   "execution_count": 15,
   "id": "4fbb5edf-62cd-4dd9-8ed1-ac4e6a1dbd87",
   "metadata": {},
   "outputs": [],
   "source": [
    "# Add the first hidden layer\n",
    "model.add(keras.layers.Dense (N_HIDDEN,                            #Number of nodes\n",
    "                              input_shape = (7,),            #Number of input variables, there are 4 \"x_data\" column\n",
    "                              name = \"Hidden-Layer-1\",        #Logical name\n",
    "                              activation = \"relu\"))           #activation function"
   ]
  },
  {
   "cell_type": "code",
   "execution_count": 16,
   "id": "87062eff-c52a-4c2e-a056-288ed62657f1",
   "metadata": {},
   "outputs": [],
   "source": [
    "# Add a second hidden layer\n",
    "model.add(keras.layers.Dense(N_HIDDEN,\n",
    "                             name = \"Hidden-Layer-2\",\n",
    "                             activation=\"relu\"))"
   ]
  },
  {
   "cell_type": "code",
   "execution_count": 17,
   "id": "bdf49ecc-17b0-43e6-87d4-d4de8477847b",
   "metadata": {},
   "outputs": [],
   "source": [
    "# Add an Output layer with softmax activation ( softmax activation çok sınıflı sınıflandırmada kulanılır)\n",
    "model.add(keras.layers.Dense(NB_CLASSES,\n",
    "                             name = \"Output-Layer\",\n",
    "                             activation = \"softmax\"))"
   ]
  },
  {
   "cell_type": "code",
   "execution_count": 18,
   "id": "e4a118d4-85f6-4a0f-8857-82b55d625166",
   "metadata": {},
   "outputs": [],
   "source": [
    "# Compile the model with loss & metrics\n",
    "model.compile(loss=\"categorical_crossentropy\",\n",
    "              metrics = [\"accuracy\"])"
   ]
  },
  {
   "cell_type": "code",
   "execution_count": 19,
   "id": "60644042-d184-445e-8821-1a2bdf522c8a",
   "metadata": {},
   "outputs": [
    {
     "name": "stdout",
     "output_type": "stream",
     "text": [
      "Model: \"sequential\"\n",
      "_________________________________________________________________\n",
      " Layer (type)                Output Shape              Param #   \n",
      "=================================================================\n",
      " Hidden-Layer-1 (Dense)      (None, 32)                256       \n",
      "                                                                 \n",
      " Hidden-Layer-2 (Dense)      (None, 32)                1056      \n",
      "                                                                 \n",
      " Output-Layer (Dense)        (None, 3)                 99        \n",
      "                                                                 \n",
      "=================================================================\n",
      "Total params: 1411 (5.51 KB)\n",
      "Trainable params: 1411 (5.51 KB)\n",
      "Non-trainable params: 0 (0.00 Byte)\n",
      "_________________________________________________________________\n"
     ]
    }
   ],
   "source": [
    "model.summary()"
   ]
  },
  {
   "cell_type": "markdown",
   "id": "fe331dfd-29ca-49e4-96fb-5e447f09d6c5",
   "metadata": {},
   "source": [
    "# 4. Training and Evaluating the Model"
   ]
  },
  {
   "cell_type": "code",
   "execution_count": 20,
   "id": "9f575435-32cc-4f57-9cc7-5f2d75cb6448",
   "metadata": {},
   "outputs": [],
   "source": [
    "VERBOSE = 1\n",
    "\n",
    "# Setup Hyper Parameters for training\n",
    "BATCH_SIZE = 16\n",
    "EPOCHS=10\n",
    "VALIDATION_SPLIT=0.2 #önerilen %10 ancak verim az o yüzden %20 kullandım"
   ]
  },
  {
   "cell_type": "code",
   "execution_count": 21,
   "id": "06101c08-bcec-4529-b308-1f1212243cd0",
   "metadata": {},
   "outputs": [
    {
     "name": "stdout",
     "output_type": "stream",
     "text": [
      "\n",
      "Eğitim İlerlemesi:\n",
      "------------------------------------\n",
      "Epoch 1/10\n",
      "45/45 [==============================] - 1s 5ms/step - loss: 0.8435 - accuracy: 0.7431 - val_loss: 0.7164 - val_accuracy: 0.8000\n",
      "Epoch 2/10\n",
      "45/45 [==============================] - 0s 1ms/step - loss: 0.5986 - accuracy: 0.8375 - val_loss: 0.5586 - val_accuracy: 0.8111\n",
      "Epoch 3/10\n",
      "45/45 [==============================] - 0s 1ms/step - loss: 0.4858 - accuracy: 0.8486 - val_loss: 0.5143 - val_accuracy: 0.8167\n",
      "Epoch 4/10\n",
      "45/45 [==============================] - 0s 1ms/step - loss: 0.4448 - accuracy: 0.8458 - val_loss: 0.4945 - val_accuracy: 0.8222\n",
      "Epoch 5/10\n",
      "45/45 [==============================] - 0s 2ms/step - loss: 0.4249 - accuracy: 0.8611 - val_loss: 0.4813 - val_accuracy: 0.8167\n",
      "Epoch 6/10\n",
      "45/45 [==============================] - 0s 1ms/step - loss: 0.4124 - accuracy: 0.8611 - val_loss: 0.4762 - val_accuracy: 0.8278\n",
      "Epoch 7/10\n",
      "45/45 [==============================] - 0s 1ms/step - loss: 0.4046 - accuracy: 0.8597 - val_loss: 0.4715 - val_accuracy: 0.8167\n",
      "Epoch 8/10\n",
      "45/45 [==============================] - 0s 1ms/step - loss: 0.3958 - accuracy: 0.8639 - val_loss: 0.4677 - val_accuracy: 0.8222\n",
      "Epoch 9/10\n",
      "45/45 [==============================] - 0s 1ms/step - loss: 0.3899 - accuracy: 0.8625 - val_loss: 0.4591 - val_accuracy: 0.8167\n",
      "Epoch 10/10\n",
      "45/45 [==============================] - 0s 1ms/step - loss: 0.3830 - accuracy: 0.8667 - val_loss: 0.4642 - val_accuracy: 0.8056\n"
     ]
    }
   ],
   "source": [
    "print(\"\\nEğitim İlerlemesi:\\n------------------------------------\")\n",
    "\n",
    "# Fit the model. This will perform the entire training cycle, including\n",
    "# forward propagation, loss computation, backward propagation and gradient descent.\n",
    "# Execute for the specified batch size and epoch\n",
    "# Perform validation after each epoch\n",
    "history = model.fit(x_train,\n",
    "                    y_train,\n",
    "                    batch_size = BATCH_SIZE,\n",
    "                    epochs= EPOCHS,\n",
    "                    verbose = VERBOSE,\n",
    "                    validation_split = VALIDATION_SPLIT)"
   ]
  },
  {
   "cell_type": "code",
   "execution_count": 22,
   "id": "1c41ea69-fc47-444b-8537-4fda9fbab5e5",
   "metadata": {},
   "outputs": [
    {
     "name": "stdout",
     "output_type": "stream",
     "text": [
      "\n",
      "Eğitim Sırasında Doğruluk :\n",
      "------------------------------------\n"
     ]
    },
    {
     "data": {
      "image/png": "[encoded data removed]",
      "text/plain": [
       "<Figure size 800x500 with 1 Axes>"
      ]
     },
     "metadata": {},
     "output_type": "display_data"
    },
    {
     "name": "stdout",
     "output_type": "stream",
     "text": [
      "\n",
      "Test Veri Kümesine Karşı Değerlendirme :\n",
      "------------------------------------\n",
      "4/4 [==============================] - 0s 2ms/step - loss: 0.5606 - accuracy: 0.7500\n"
     ]
    },
    {
     "data": {
      "text/plain": [
       "[0.5606151819229126, 0.75]"
      ]
     },
     "execution_count": 22,
     "metadata": {},
     "output_type": "execute_result"
    }
   ],
   "source": [
    "print(\"\\nEğitim Sırasında Doğruluk :\\n------------------------------------\")\n",
    "\n",
    "import matplotlib.pyplot as plt\n",
    "\n",
    "# plot accuracy of the model after each epoch.\n",
    "pd.DataFrame(history.history)[\"accuracy\"].plot(figsize=(8,5))\n",
    "plt.title(\"Accuracy improvements with Epoch\")\n",
    "plt.show()\n",
    "\n",
    "# Evaluate the model against the test dataset and print results\n",
    "print(\"\\nTest Veri Kümesine Karşı Değerlendirme :\\n------------------------------------\")\n",
    "model.evaluate(x_test,y_test)"
   ]
  },
  {
   "cell_type": "code",
   "execution_count": 23,
   "id": "821d5b80-d8e1-48cc-8b32-39c87a818933",
   "metadata": {},
   "outputs": [
    {
     "name": "stdout",
     "output_type": "stream",
     "text": [
      "1/1 [==============================] - 0s 77ms/step\n",
      "['DATABASE_ISSUE']\n"
     ]
    }
   ],
   "source": [
    "#Pass individual flags to Predict the root cause\n",
    "import numpy as np\n",
    "\n",
    "CPU_LOAD=1\n",
    "MEMORY_LOAD=0\n",
    "DELAY=0\n",
    "ERROR_1000=0\n",
    "ERROR_1001=1\n",
    "ERROR_1002=1\n",
    "ERROR_1003=0\n",
    "\n",
    "prediction=np.argmax(model.predict(\n",
    "    [[CPU_LOAD,MEMORY_LOAD,DELAY,\n",
    "      ERROR_1000,ERROR_1001,ERROR_1002,ERROR_1003]]), axis=1 )\n",
    "\n",
    "print(label_encode.inverse_transform(prediction))"
   ]
  },
  {
   "cell_type": "code",
   "execution_count": 24,
   "id": "2c873217-76e5-4643-81eb-94ca48f1ee0a",
   "metadata": {},
   "outputs": [
    {
     "name": "stdout",
     "output_type": "stream",
     "text": [
      "1/1 [==============================] - 0s 24ms/step\n",
      "['DATABASE_ISSUE' 'NETWORK_DELAY' 'MEMORY_LEAK' 'DATABASE_ISSUE'\n",
      " 'DATABASE_ISSUE']\n"
     ]
    }
   ],
   "source": [
    "#Predicting as a Batch\n",
    "print(label_encode.inverse_transform(np.argmax(\n",
    "        model.predict([[1,0,0,0,1,1,0],\n",
    "                                [0,1,1,1,0,0,0],\n",
    "                                [1,1,0,1,1,0,1],\n",
    "                                [0,0,0,0,0,1,0],\n",
    "                                [1,0,1,0,1,1,1]]), axis=1 )))"
   ]
  },
  {
   "cell_type": "code",
   "execution_count": null,
   "id": "4c3e0f26-1c14-49fc-926c-e331b10fcf09",
   "metadata": {},
   "outputs": [],
   "source": []
  }
 ],
 "metadata": {
  "kernelspec": {
   "display_name": "Python 3 (ipykernel)",
   "language": "python",
   "name": "python3"
  },
  "language_info": {
   "codemirror_mode": {
    "name": "ipython",
    "version": 3
   },
   "file_extension": ".py",
   "mimetype": "text/x-python",
   "name": "python",
   "nbconvert_exporter": "python",
   "pygments_lexer": "ipython3",
   "version": "3.8.18"
  }
 },
 "nbformat": 4,
 "nbformat_minor": 5
}
