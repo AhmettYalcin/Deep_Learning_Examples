{
 "cells": [
  {
   "cell_type": "markdown",
   "id": "09ec6ef3-f5a6-4d17-9a26-0e23f89d4b29",
   "metadata": {},
   "source": [
    "# 1. SETUP\n",
    "\n",
    "  Install required text processing libraries for the example"
   ]
  },
  {
   "cell_type": "code",
   "execution_count": 1,
   "id": "b2d7b27b-22cc-4a94-b19a-6a7896bba608",
   "metadata": {},
   "outputs": [
    {
     "name": "stderr",
     "output_type": "stream",
     "text": [
      "[nltk_data] Downloading package stopwords to\n",
      "[nltk_data]     C:\\Users\\yalci\\AppData\\Roaming\\nltk_data...\n",
      "[nltk_data]   Package stopwords is already up-to-date!\n",
      "[nltk_data] Downloading package punkt to\n",
      "[nltk_data]     C:\\Users\\yalci\\AppData\\Roaming\\nltk_data...\n",
      "[nltk_data]   Package punkt is already up-to-date!\n",
      "[nltk_data] Downloading package wordnet to\n",
      "[nltk_data]     C:\\Users\\yalci\\AppData\\Roaming\\nltk_data...\n",
      "[nltk_data]   Package wordnet is already up-to-date!\n"
     ]
    }
   ],
   "source": [
    "#!pip install nltk\n",
    "\n",
    "import nltk\n",
    "\n",
    "nltk.download(\"stopwords\")\n",
    "nltk.download(\"punkt\")\n",
    "\n",
    "from nltk.corpus import stopwords\n",
    "\n",
    "nltk.download(\"wordnet\")\n",
    "from nltk.stem import WordNetLemmatizer\n",
    "lemmatizer = WordNetLemmatizer()"
   ]
  },
  {
   "cell_type": "markdown",
   "id": "864cfa51-99da-4a06-a955-57aa1c796784",
   "metadata": {},
   "source": [
    "# 2. CREATİNG TEXT REPRESANTATİON\n",
    "\n",
    " Text data needs to be converted to numeric representation before they can be used to train deep learning models. The Spam classification feature data is converted to TF-IDF vextors and the target variable is converted to one-hot-encoding."
   ]
  },
  {
   "cell_type": "code",
   "execution_count": 2,
   "id": "817a2392-5153-4e97-872c-0abad3b48658",
   "metadata": {},
   "outputs": [],
   "source": [
    "import pandas as pd\n",
    "import os\n",
    "import numpy as np\n",
    "from sklearn.model_selection import train_test_split\n",
    "from sklearn.preprocessing import scale"
   ]
  },
  {
   "cell_type": "code",
   "execution_count": 3,
   "id": "818166ba-bf9c-412c-9a57-28458e0b530f",
   "metadata": {},
   "outputs": [
    {
     "data": {
      "text/html": [
       "<div>\n",
       "<style scoped>\n",
       "    .dataframe tbody tr th:only-of-type {\n",
       "        vertical-align: middle;\n",
       "    }\n",
       "\n",
       "    .dataframe tbody tr th {\n",
       "        vertical-align: top;\n",
       "    }\n",
       "\n",
       "    .dataframe thead th {\n",
       "        text-align: right;\n",
       "    }\n",
       "</style>\n",
       "<table border=\"1\" class=\"dataframe\">\n",
       "  <thead>\n",
       "    <tr style=\"text-align: right;\">\n",
       "      <th></th>\n",
       "      <th>CLASS</th>\n",
       "      <th>SMS</th>\n",
       "    </tr>\n",
       "  </thead>\n",
       "  <tbody>\n",
       "    <tr>\n",
       "      <th>0</th>\n",
       "      <td>ham</td>\n",
       "      <td>said kiss, kiss, i can't do the sound effects...</td>\n",
       "    </tr>\n",
       "    <tr>\n",
       "      <th>1</th>\n",
       "      <td>ham</td>\n",
       "      <td>&amp;lt;#&amp;gt; ISH MINUTES WAS 5 MINUTES AGO. WTF.</td>\n",
       "    </tr>\n",
       "    <tr>\n",
       "      <th>2</th>\n",
       "      <td>spam</td>\n",
       "      <td>(Bank of Granite issues Strong-Buy) EXPLOSIVE ...</td>\n",
       "    </tr>\n",
       "    <tr>\n",
       "      <th>3</th>\n",
       "      <td>spam</td>\n",
       "      <td>* FREE* POLYPHONIC RINGTONE Text SUPER to 8713...</td>\n",
       "    </tr>\n",
       "    <tr>\n",
       "      <th>4</th>\n",
       "      <td>spam</td>\n",
       "      <td>**FREE MESSAGE**Thanks for using the Auction S...</td>\n",
       "    </tr>\n",
       "  </tbody>\n",
       "</table>\n",
       "</div>"
      ],
      "text/plain": [
       "  CLASS                                                SMS\n",
       "0   ham   said kiss, kiss, i can't do the sound effects...\n",
       "1   ham      &lt;#&gt; ISH MINUTES WAS 5 MINUTES AGO. WTF.\n",
       "2  spam  (Bank of Granite issues Strong-Buy) EXPLOSIVE ...\n",
       "3  spam  * FREE* POLYPHONIC RINGTONE Text SUPER to 8713...\n",
       "4  spam  **FREE MESSAGE**Thanks for using the Auction S..."
      ]
     },
     "execution_count": 3,
     "metadata": {},
     "output_type": "execute_result"
    }
   ],
   "source": [
    "#Load Spam Data and review content\n",
    "spam_data = pd.read_csv(\"Spam-Classification.csv\")\n",
    "\n",
    "spam_data.head()"
   ]
  },
  {
   "cell_type": "code",
   "execution_count": 4,
   "id": "386d6c0b-9896-4e59-8a0f-65ca1345217d",
   "metadata": {},
   "outputs": [
    {
     "name": "stdout",
     "output_type": "stream",
     "text": [
      "------TARGET DATA-----------\n",
      "0     ham\n",
      "1     ham\n",
      "2    spam\n",
      "3    spam\n",
      "4    spam\n",
      "Name: CLASS, dtype: object\n",
      "-----FEATURE DATA-----------\n",
      "0     said kiss, kiss, i can't do the sound effects...\n",
      "1        &lt;#&gt; ISH MINUTES WAS 5 MINUTES AGO. WTF.\n",
      "2    (Bank of Granite issues Strong-Buy) EXPLOSIVE ...\n",
      "3    * FREE* POLYPHONIC RINGTONE Text SUPER to 8713...\n",
      "4    **FREE MESSAGE**Thanks for using the Auction S...\n",
      "Name: SMS, dtype: object\n"
     ]
    }
   ],
   "source": [
    "# Seperate feature and target data\n",
    "spam_classes_raw = spam_data[\"CLASS\"]\n",
    "\n",
    "spam_messages = spam_data[\"SMS\"]\n",
    "print(\"------TARGET DATA-----------\")\n",
    "print(spam_classes_raw.head())\n",
    "print(\"-----FEATURE DATA-----------\")\n",
    "print(spam_messages.head())"
   ]
  },
  {
   "cell_type": "code",
   "execution_count": 5,
   "id": "07b79189-059d-4b05-9e24-d4795f186373",
   "metadata": {},
   "outputs": [
    {
     "name": "stdout",
     "output_type": "stream",
     "text": [
      "WARNING:tensorflow:From C:\\Users\\yalci\\AppData\\Roaming\\Python\\Python311\\site-packages\\keras\\src\\losses.py:2976: The name tf.losses.sparse_softmax_cross_entropy is deprecated. Please use tf.compat.v1.losses.sparse_softmax_cross_entropy instead.\n",
      "\n"
     ]
    }
   ],
   "source": [
    "import nltk\n",
    "import tensorflow as tf\n",
    "\n",
    "# Custom tokenizer to remove stopwords and use lemmatization\n",
    "def customtokenize(str):\n",
    "    # 1. Split string as tokens\n",
    "    tokens = nltk.word_tokenize(str) #string olarak verilen metinleri kelimelere(tokens) ayırır.\n",
    "    \n",
    "    # 2. Filter for stopwords\n",
    "    nostop = list(filter(lambda token: token not in stopwords.words(\"english\"), tokens))\n",
    "    # yukarıdaki \"stopwords.words(\"english\")\" bloğu ingilizce önemsiz kelime(stopword) listesini alır\n",
    "    # filter fonksiyonu, tokens listesindeki her bir kelimeyi (token) kontrol eder ve bu kelime stopword-\n",
    "    #listesinde değilse, bu kelimeyi nostop listesine ekler.\n",
    "    # lambda token: token not in stopwords.words(\"english\"), token'ların stopword listesinde-\n",
    "    #olup olmadığını kontrol eden anonim bir fonksiyondur.\n",
    "    # list fonksiyonu, filter sonucunu listeye çevirir.\n",
    "    \n",
    "    # 3. Perform lemmatization\n",
    "    lemmatized = [lemmatizer.lemmatize(word) for word in nostop]\n",
    "    # lemmatizer.lemmatize(word), her kelimenin kök halini bulur.\n",
    "    # nostop listesindeki her kelime için bu işlem yapılır ve sonuçlar lemmatized listesine eklenir.\n",
    "    # Lemmatization, kelimelerin temel formunu bulur. Örneğin, \"running\" kelimesi \"run\" olarak lemmatize edilir.\n",
    "    return lemmatized"
   ]
  },
  {
   "cell_type": "code",
   "execution_count": 6,
   "id": "20b72b29-bd5b-4ef0-9f6c-81a34a205f88",
   "metadata": {},
   "outputs": [
    {
     "name": "stderr",
     "output_type": "stream",
     "text": [
      "C:\\Users\\yalci\\anaconda3\\Lib\\site-packages\\sklearn\\feature_extraction\\text.py:528: UserWarning: The parameter 'token_pattern' will not be used since 'tokenizer' is not None'\n",
      "  warnings.warn(\n"
     ]
    }
   ],
   "source": [
    "from sklearn.feature_extraction.text import TfidfVectorizer \n",
    "# Br üstteki kod, metin verilerini sayısal özellik vektörlerine dönüştürmek için kullanılır\n",
    "\n",
    "# Build a TF-IDF Vectorizer model\n",
    "vectorizer = TfidfVectorizer(tokenizer=customtokenize)\n",
    "\n",
    "# Transform feature input to TF-IDF\n",
    "tfidf = vectorizer.fit_transform(spam_messages)\n",
    "\n",
    "# Convert TF-IDF to numpy array\n",
    "tfidf_array = tfidf.toarray()"
   ]
  },
  {
   "cell_type": "code",
   "execution_count": 7,
   "id": "d5473223-247f-412d-a94e-3e8b63dab313",
   "metadata": {},
   "outputs": [
    {
     "name": "stdout",
     "output_type": "stream",
     "text": [
      "TF-IDF Matrix Shape :  (1500, 4566)\n",
      "One-hot Encoding Shape :  (1500, 2)\n"
     ]
    }
   ],
   "source": [
    "# Build a label encoder for target variable to convert strings to numeric values.\n",
    "from sklearn import preprocessing\n",
    "label_encoder = preprocessing.LabelEncoder()\n",
    "spam_classes = label_encoder.fit_transform(spam_classes_raw)\n",
    "\n",
    "# Convert target to one-hot-encoding vector\n",
    "spam_classes = tf.keras.utils.to_categorical(spam_classes,2) # 2 farklı target sonucumuz var (spam, ham)\n",
    "\n",
    "print(\"TF-IDF Matrix Shape : \", tfidf.shape)\n",
    "print(\"One-hot Encoding Shape : \", spam_classes.shape)\n",
    "\n",
    "x_train, x_test, y_train, y_test = train_test_split (tfidf_array, spam_classes, test_size=0.10)"
   ]
  },
  {
   "cell_type": "markdown",
   "id": "9b2eee26-abc6-4c39-9e29-a327568b27cb",
   "metadata": {},
   "source": [
    "# 3. Building and Evaluating Model"
   ]
  },
  {
   "cell_type": "code",
   "execution_count": 8,
   "id": "ba0bf814-c3b7-4735-8596-afb8d6bfff9b",
   "metadata": {},
   "outputs": [],
   "source": [
    "from tensorflow import keras\n",
    "from tensorflow.keras import optimizers\n",
    "from tensorflow.keras.regularizers import l2"
   ]
  },
  {
   "cell_type": "code",
   "execution_count": 9,
   "id": "4cf90920-d8bc-4113-a5ed-610cbe2050fc",
   "metadata": {},
   "outputs": [],
   "source": [
    "# Setup Hyper Parameters for building the model\n",
    "NB_CLASSES = 2 # There are 2 clasess (ham and spam), that's about target variabe.\n",
    "N_HIDDEN = 32"
   ]
  },
  {
   "cell_type": "code",
   "execution_count": 10,
   "id": "f0435f6a-fd3d-440c-acd4-254cb2aff9d8",
   "metadata": {},
   "outputs": [
    {
     "name": "stdout",
     "output_type": "stream",
     "text": [
      "WARNING:tensorflow:From C:\\Users\\yalci\\AppData\\Roaming\\Python\\Python311\\site-packages\\keras\\src\\backend.py:873: The name tf.get_default_graph is deprecated. Please use tf.compat.v1.get_default_graph instead.\n",
      "\n"
     ]
    }
   ],
   "source": [
    "model = tf.keras.Sequential()"
   ]
  },
  {
   "cell_type": "code",
   "execution_count": 11,
   "id": "7010b7d6-c340-499f-885c-7e9eb3a76267",
   "metadata": {},
   "outputs": [],
   "source": [
    "# Add the first hidden layer\n",
    "model.add(keras.layers.Dense(N_HIDDEN,\n",
    "                             input_shape = (x_train.shape[1],), # bu satır önemli!!\n",
    "                             name=\"Hidden-Layer-1\",\n",
    "                             activation=\"relu\"))"
   ]
  },
  {
   "cell_type": "code",
   "execution_count": 12,
   "id": "a2f07346-0a3b-4515-b82a-8767fd93a5f5",
   "metadata": {},
   "outputs": [],
   "source": [
    "# Add the second hidden layer\n",
    "model.add(keras.layers.Dense(N_HIDDEN,\n",
    "                             name=\"Hidden-Layer-2\",\n",
    "                             activation=\"relu\"))"
   ]
  },
  {
   "cell_type": "code",
   "execution_count": 13,
   "id": "2016a26e-3237-4ed6-85b9-03229d5cd1ea",
   "metadata": {},
   "outputs": [],
   "source": [
    "# Add an Output layer with softmax activation ( softmax activation çok sınıflı sınıflandırmada kulanılır)\n",
    "# Add an Output layer with softmax activation ( softmax activation çok sınıflı sınıflandırmada kulanılır)\n",
    "model.add(keras.layers.Dense(NB_CLASSES,\n",
    "                             name = \"Output-Layer\",\n",
    "                             activation = \"softmax\"))"
   ]
  },
  {
   "cell_type": "code",
   "execution_count": 14,
   "id": "8ce55e28-7ee3-41a8-8990-7d58af02033a",
   "metadata": {},
   "outputs": [
    {
     "name": "stdout",
     "output_type": "stream",
     "text": [
      "WARNING:tensorflow:From C:\\Users\\yalci\\AppData\\Roaming\\Python\\Python311\\site-packages\\keras\\src\\optimizers\\__init__.py:309: The name tf.train.Optimizer is deprecated. Please use tf.compat.v1.train.Optimizer instead.\n",
      "\n"
     ]
    }
   ],
   "source": [
    "# Compile the model with loss & metrics\n",
    "model.compile(loss=\"categorical_crossentropy\",\n",
    "              metrics = [\"accuracy\"])"
   ]
  },
  {
   "cell_type": "code",
   "execution_count": 15,
   "id": "2915536b-b619-4dac-859d-53ef9afaad7c",
   "metadata": {},
   "outputs": [
    {
     "name": "stdout",
     "output_type": "stream",
     "text": [
      "Model: \"sequential\"\n",
      "_________________________________________________________________\n",
      " Layer (type)                Output Shape              Param #   \n",
      "=================================================================\n",
      " Hidden-Layer-1 (Dense)      (None, 32)                146144    \n",
      "                                                                 \n",
      " Hidden-Layer-2 (Dense)      (None, 32)                1056      \n",
      "                                                                 \n",
      " Output-Layer (Dense)        (None, 2)                 66        \n",
      "                                                                 \n",
      "=================================================================\n",
      "Total params: 147266 (575.26 KB)\n",
      "Trainable params: 147266 (575.26 KB)\n",
      "Non-trainable params: 0 (0.00 Byte)\n",
      "_________________________________________________________________\n"
     ]
    }
   ],
   "source": [
    "model.summary()"
   ]
  },
  {
   "cell_type": "markdown",
   "id": "3577fb3a-2bf1-4c8e-bfb5-2161b167fb7c",
   "metadata": {},
   "source": [
    "# 4. Training and Evaluating the Model\n",
    "Training the odel involves defining training models and then perform forward and back propagation"
   ]
  },
  {
   "cell_type": "code",
   "execution_count": 16,
   "id": "58370d5f-373c-47ff-a388-54f2c82957ac",
   "metadata": {},
   "outputs": [],
   "source": [
    "VERBOSE = 1\n",
    "\n",
    "# Setup Hyper Parameters for training\n",
    "BATCH_SIZE = 256\n",
    "EPOCHS=10\n",
    "VALIDATION_SPLIT=0.2"
   ]
  },
  {
   "cell_type": "code",
   "execution_count": 17,
   "id": "6d8485f6-11ec-4352-8f32-ecec7b2ff25d",
   "metadata": {},
   "outputs": [
    {
     "name": "stdout",
     "output_type": "stream",
     "text": [
      "\n",
      "Eğitim İlerlemesi:\n",
      "------------------------------------\n",
      "Epoch 1/10\n",
      "WARNING:tensorflow:From C:\\Users\\yalci\\AppData\\Roaming\\Python\\Python311\\site-packages\\keras\\src\\utils\\tf_utils.py:492: The name tf.ragged.RaggedTensorValue is deprecated. Please use tf.compat.v1.ragged.RaggedTensorValue instead.\n",
      "\n",
      "WARNING:tensorflow:From C:\\Users\\yalci\\AppData\\Roaming\\Python\\Python311\\site-packages\\keras\\src\\engine\\base_layer_utils.py:384: The name tf.executing_eagerly_outside_functions is deprecated. Please use tf.compat.v1.executing_eagerly_outside_functions instead.\n",
      "\n",
      "5/5 [==============================] - 2s 101ms/step - loss: 0.6898 - accuracy: 0.6074 - val_loss: 0.6803 - val_accuracy: 0.8296\n",
      "Epoch 2/10\n",
      "5/5 [==============================] - 0s 20ms/step - loss: 0.6700 - accuracy: 0.8620 - val_loss: 0.6558 - val_accuracy: 0.8852\n",
      "Epoch 3/10\n",
      "5/5 [==============================] - 0s 19ms/step - loss: 0.6360 - accuracy: 0.9296 - val_loss: 0.6213 - val_accuracy: 0.9185\n",
      "Epoch 4/10\n",
      "5/5 [==============================] - 0s 17ms/step - loss: 0.5918 - accuracy: 0.9593 - val_loss: 0.5823 - val_accuracy: 0.9370\n",
      "Epoch 5/10\n",
      "5/5 [==============================] - 0s 17ms/step - loss: 0.5426 - accuracy: 0.9667 - val_loss: 0.5411 - val_accuracy: 0.9222\n",
      "Epoch 6/10\n",
      "5/5 [==============================] - 0s 17ms/step - loss: 0.4916 - accuracy: 0.9685 - val_loss: 0.5002 - val_accuracy: 0.9444\n",
      "Epoch 7/10\n",
      "5/5 [==============================] - 0s 18ms/step - loss: 0.4411 - accuracy: 0.9796 - val_loss: 0.4591 - val_accuracy: 0.9481\n",
      "Epoch 8/10\n",
      "5/5 [==============================] - 0s 18ms/step - loss: 0.3907 - accuracy: 0.9833 - val_loss: 0.4188 - val_accuracy: 0.9519\n",
      "Epoch 9/10\n",
      "5/5 [==============================] - 0s 20ms/step - loss: 0.3425 - accuracy: 0.9889 - val_loss: 0.3809 - val_accuracy: 0.9481\n",
      "Epoch 10/10\n",
      "5/5 [==============================] - 0s 20ms/step - loss: 0.2978 - accuracy: 0.9917 - val_loss: 0.3461 - val_accuracy: 0.9481\n"
     ]
    }
   ],
   "source": [
    "print(\"\\nEğitim İlerlemesi:\\n------------------------------------\")\n",
    "\n",
    "# Fit the model. This will perform the entire training cycle, including\n",
    "# forward propagation, loss computation, backward propagation and gradient descent.\n",
    "# Execute for the specified batch size and epoch\n",
    "# Perform validation after each epoch\n",
    "history = model.fit(x_train,\n",
    "                    y_train,\n",
    "                    batch_size = BATCH_SIZE,\n",
    "                    epochs= EPOCHS,\n",
    "                    verbose = VERBOSE,\n",
    "                    validation_split = VALIDATION_SPLIT)"
   ]
  },
  {
   "cell_type": "code",
   "execution_count": 18,
   "id": "332aebc8-3ca6-42a7-b4ec-a729d4040354",
   "metadata": {},
   "outputs": [
    {
     "name": "stdout",
     "output_type": "stream",
     "text": [
      "\n",
      "Eğitim Sırasında Doğruluk :\n",
      "------------------------------------\n"
     ]
    },
    {
     "data": {
      "image/png": "[encoded data removed]",
      "text/plain": [
       "<Figure size 800x500 with 1 Axes>"
      ]
     },
     "metadata": {},
     "output_type": "display_data"
    },
    {
     "name": "stdout",
     "output_type": "stream",
     "text": [
      "\n",
      "Test Veri Kümesine Karşı Değerlendirme :\n",
      "------------------------------------\n",
      "5/5 [==============================] - 0s 12ms/step - loss: 0.3720 - accuracy: 0.9400\n"
     ]
    },
    {
     "data": {
      "text/plain": [
       "[0.37202247977256775, 0.9399999976158142]"
      ]
     },
     "execution_count": 18,
     "metadata": {},
     "output_type": "execute_result"
    }
   ],
   "source": [
    "print(\"\\nEğitim Sırasında Doğruluk :\\n------------------------------------\")\n",
    "\n",
    "import matplotlib.pyplot as plt\n",
    "\n",
    "# plot accuracy of the model after each epoch.\n",
    "pd.DataFrame(history.history)[\"accuracy\"].plot(figsize=(8,5))\n",
    "plt.title(\"Accuracy improvements with Epoch\")\n",
    "plt.show()\n",
    "\n",
    "# Evaluate the model against the test dataset and print results\n",
    "print(\"\\nTest Veri Kümesine Karşı Değerlendirme :\\n------------------------------------\")\n",
    "model.evaluate(x_test,y_test)"
   ]
  },
  {
   "cell_type": "markdown",
   "id": "73179c31-a4c9-4942-b2b9-4bd605a9e6a1",
   "metadata": {},
   "source": [
    "# 4. Predicting for Text"
   ]
  },
  {
   "cell_type": "code",
   "execution_count": 19,
   "id": "ff9bb9ae-4811-40bc-952b-70d7c7f39877",
   "metadata": {},
   "outputs": [
    {
     "name": "stdout",
     "output_type": "stream",
     "text": [
      "(2, 4566)\n",
      "1/1 [==============================] - 0s 143ms/step\n",
      "Prediction Output:  [1 0]\n",
      "Prediction Classes are  ['spam' 'ham']\n"
     ]
    }
   ],
   "source": [
    "# Predict for multiple sample using batch processing\n",
    "\n",
    "# Convert input into TF-IDF vector using the same vectorizer model\n",
    "predict_tfidf=vectorizer.transform([\"FREE entry to a fun contest\",\n",
    "                                    \"Yup I will come over\"]).toarray()\n",
    "print(predict_tfidf.shape)\n",
    "\n",
    "# Predict using model\n",
    "prediction = np.argmax(model.predict(predict_tfidf), axis=1)\n",
    "print(\"Prediction Output: \", prediction)\n",
    "\n",
    "# Print prediciton classes\n",
    "print(\"Prediction Classes are \", label_encoder.inverse_transform(prediction))"
   ]
  },
  {
   "cell_type": "code",
   "execution_count": 20,
   "id": "0a6f3845-1880-4841-bedb-fa9373b29c7f",
   "metadata": {},
   "outputs": [
    {
     "name": "stdout",
     "output_type": "stream",
     "text": [
      "(1, 4566)\n",
      "1/1 [==============================] - 0s 37ms/step\n",
      "Prediction Output:  [0]\n",
      "Prediction Classes are  ['ham']\n"
     ]
    }
   ],
   "source": [
    "# Predict for multiple sample using batch processing\n",
    "\n",
    "# Convert input into TF-IDF vector using the same vectorizer model\n",
    "predict1_tfidf=vectorizer.transform([\"Hİ, what's up bro\"]).toarray()\n",
    "print(predict1_tfidf.shape)\n",
    "\n",
    "# Predict using model\n",
    "prediction1 = np.argmax(model.predict(predict1_tfidf), axis=1)\n",
    "print(\"Prediction Output: \", prediction1)\n",
    "\n",
    "# Print prediciton classes\n",
    "print(\"Prediction Classes are \", label_encoder.inverse_transform(prediction1))"
   ]
  },
  {
   "cell_type": "code",
   "execution_count": null,
   "id": "60f6277b-1896-4f15-8fa8-b9dfcccab31f",
   "metadata": {},
   "outputs": [],
   "source": []
  }
 ],
 "metadata": {
  "kernelspec": {
   "display_name": "Python 3 (ipykernel)",
   "language": "python",
   "name": "python3"
  },
  "language_info": {
   "codemirror_mode": {
    "name": "ipython",
    "version": 3
   },
   "file_extension": ".py",
   "mimetype": "text/x-python",
   "name": "python",
   "nbconvert_exporter": "python",
   "pygments_lexer": "ipython3",
   "version": "3.11.5"
  }
 },
 "nbformat": 4,
 "nbformat_minor": 5
}
